{
 "cells": [
  {
   "cell_type": "markdown",
   "id": "25d7736c-ba17-4aff-b6bb-66eba20fbf4e",
   "metadata": {},
   "source": [
    "# Lab | List, Dict and Set Comprehension"
   ]
  },
  {
   "cell_type": "markdown",
   "id": "7dd3cbde-675a-4b81-92c3-f728846dbe06",
   "metadata": {},
   "source": [
    "## Exercise: Managing Customer Orders Optimized with Comprehension"
   ]
  },
  {
   "cell_type": "markdown",
   "id": "5d500160-2fb7-4777-b5e4-09d45ebaf328",
   "metadata": {},
   "source": [
    "In the previous exercise, you developed a program to manage customer orders and inventory. Now, let's take it a step further and incorporate comprehension into your code.\n",
    "\n",
    "Follow the steps below to complete the exercise:\n",
    "\n",
    "1. Review your code from the previous exercise and identify areas where you can apply comprehension to simplify and streamline your code. \n",
    "\n",
    "    - *Hint: Apply it to initialize inventory, updating the inventory and printing the updated inventory.*\n",
    "    \n",
    "    - For example, in initializing the inventory, we could have:\n",
    "    \n",
    "        ```python\n",
    "        def initialize_inventory(products):\n",
    "            inventory = {product: int(input(f\"Enter the quantity of {product}s available: \")) for product in products}\n",
    "            return inventory\n",
    "\n",
    "        ```\n",
    "<br>\n",
    "    \n",
    "    \n",
    "2. Modify the function get_customer_orders so it prompts the user to enter the number of customer orders and gathers the product names using a loop and user input. Use comprehension.\n",
    "\n",
    "3. Add a new function to calculate the total price of the customer order. For each product in customer_orders, prompt the user to enter the price of that product. Use comprehension to calculate the total price. Note: assume that the user can only have 1 unit of each product.\n",
    "\n",
    "4. Modify the update_inventory function to remove the product from the inventory if its quantity becomes zero after fulfilling the customer orders. Use comprehension to filter out the products with a quantity of zero from the inventory.\n",
    "\n",
    "5. Print the total price of the customer order.\n",
    "\n",
    "Your code should produce output similar to the following:\n",
    "\n",
    "```python\n",
    "Enter the quantity of t-shirts available:  5\n",
    "Enter the quantity of mugs available:  4\n",
    "Enter the quantity of hats available:  3\n",
    "Enter the quantity of books available:  2\n",
    "Enter the quantity of keychains available:  1\n",
    "Enter the number of customer orders:  2\n",
    "Enter the name of a product that a customer wants to order:  hat\n",
    "Enter the name of a product that a customer wants to order:  keychain\n",
    "\n",
    "Order Statistics:\n",
    "Total Products Ordered: 2\n",
    "Percentage of Unique Products Ordered: 40.0\n",
    "\n",
    "Updated Inventory:\n",
    "t-shirt: 5\n",
    "mug: 4\n",
    "hat: 2\n",
    "book: 2\n",
    "Enter the price of keychain:  5\n",
    "Enter the price of hat:  10\n",
    "Total Price: 15.0\n",
    "\n",
    "```\n"
   ]
  },
  {
   "cell_type": "code",
   "execution_count": 185,
   "id": "959607e3-c563-4799-ac41-f781a8bcf4bd",
   "metadata": {},
   "outputs": [
    {
     "name": "stdin",
     "output_type": "stream",
     "text": [
      "Enter the quantity of t-shirts available:  5\n",
      "Enter the quantity of mugs available:  4\n",
      "Enter the quantity of hats available:  3\n",
      "Enter the quantity of books available:  2\n",
      "Enter the quantity of keychains available:  1\n"
     ]
    }
   ],
   "source": [
    "products = [\"t-shirt\", \"mug\", \"hat\", \"book\", \"keychain\"]\n",
    "def initialize_inventory(products):\n",
    "    inventory = {product: int(input(f\"Enter the quantity of {product}s available: \")) for product in products}\n",
    "    return inventory\n",
    "\n",
    "\n",
    "inventory = initialize_inventory(products)"
   ]
  },
  {
   "cell_type": "code",
   "execution_count": 187,
   "id": "7a4e9e1f-767b-44b2-8bb2-d62841770fa6",
   "metadata": {},
   "outputs": [
    {
     "name": "stdin",
     "output_type": "stream",
     "text": [
      "Enter the number of customer orders: 2\n",
      "Enter the name of a product that a customer wants to order from the following['t-shirt', 'mug', 'hat', 'book', 'keychain']: mug\n",
      "Enter the name of a product that a customer wants to order from the following['t-shirt', 'mug', 'hat', 'book', 'keychain']: hat\n"
     ]
    },
    {
     "name": "stdout",
     "output_type": "stream",
     "text": [
      "Final order: {'mug', 'hat'}\n"
     ]
    }
   ],
   "source": [
    "def get_customer_orders(products):\n",
    "    number_of_orders = int(input(\"Enter the number of customer orders:\",))\n",
    "    customer_orders = set()\n",
    "    \n",
    "    for _ in range(number_of_orders):\n",
    "        order = input(f\"Enter the name of a product that a customer wants to order from the following{products}:\",) \n",
    "        if order in products:\n",
    "            customer_orders.add(order)\n",
    "        else:\n",
    "            print(f\"'{order}' is not a valid product. Please try again.\")\n",
    "    return customer_orders\n",
    "\n",
    "orders = get_customer_orders(products)\n",
    "print (\"Final order:\", orders)"
   ]
  },
  {
   "cell_type": "code",
   "execution_count": 203,
   "id": "a105c931-e7cb-42e9-bc9e-c49ff4d0aaa7",
   "metadata": {},
   "outputs": [
    {
     "name": "stdout",
     "output_type": "stream",
     "text": [
      "{'t-shirt': 5, 'mug': 3, 'hat': 2, 'book': 2, 'keychain': 1}\n"
     ]
    }
   ],
   "source": [
    "def updated_inventory(orders,inventory):\n",
    "    ui = {product:(value-1 if product in orders else value) for product,value in inventory.items()}\n",
    "    ui2 = {product:quantity for product, quantity in ui.items() if quantity>0} #this second line acts as a filter, to reprint the list but for all products where the quantity is larger than 0\n",
    "    #the if is at the end since there's no else statement\n",
    "    return ui2\n",
    "\n",
    "updated_inventory = updated_inventory(orders,inventory)\n",
    "print (updated_inventory)\n"
   ]
  },
  {
   "cell_type": "code",
   "execution_count": 171,
   "id": "4b937dc1-8873-46b6-9cbd-c1fae48b5d54",
   "metadata": {},
   "outputs": [
    {
     "name": "stdin",
     "output_type": "stream",
     "text": [
      "Enter the price for mug: $ 5\n",
      "Enter the price for hat: $ 3\n"
     ]
    }
   ],
   "source": [
    "def total_price(orders):\n",
    "    product_prices={}\n",
    "\n",
    "    for order in orders:\n",
    "        price = float(input(f\"Enter the price for {order}: $\",))\n",
    "        product_prices[order]=price\n",
    "    return sum(product_prices[order] for order in orders)\n",
    "\n",
    "total = total_price(orders)\n"
   ]
  },
  {
   "cell_type": "code",
   "execution_count": 173,
   "id": "8b7b849c-7c92-48f5-a8d7-f68a39c9f05b",
   "metadata": {},
   "outputs": [
    {
     "name": "stdout",
     "output_type": "stream",
     "text": [
      "the total is:$ 8.0\n"
     ]
    }
   ],
   "source": [
    "print (\"the total is:$\", total)"
   ]
  },
  {
   "cell_type": "code",
   "execution_count": null,
   "id": "8e86a1fd-6a78-4f02-82e4-fd861c01bff8",
   "metadata": {},
   "outputs": [],
   "source": []
  }
 ],
 "metadata": {
  "kernelspec": {
   "display_name": "Python [conda env:base] *",
   "language": "python",
   "name": "conda-base-py"
  },
  "language_info": {
   "codemirror_mode": {
    "name": "ipython",
    "version": 3
   },
   "file_extension": ".py",
   "mimetype": "text/x-python",
   "name": "python",
   "nbconvert_exporter": "python",
   "pygments_lexer": "ipython3",
   "version": "3.12.7"
  }
 },
 "nbformat": 4,
 "nbformat_minor": 5
}
